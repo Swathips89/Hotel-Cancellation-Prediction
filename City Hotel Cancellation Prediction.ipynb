{
 "cells": [
  {
   "cell_type": "code",
   "execution_count": 69,
   "metadata": {},
   "outputs": [],
   "source": [
    "# Import Python Libraries\n",
    "import pandas as pd\n",
    "import numpy as np\n",
    "import datetime \n",
    "# plotting\n",
    "from matplotlib import pyplot as plt\n",
    "import seaborn as sns"
   ]
  },
  {
   "cell_type": "code",
   "execution_count": 138,
   "metadata": {},
   "outputs": [
    {
     "name": "stdout",
     "output_type": "stream",
     "text": [
      "Automatically created module for IPython interactive environment\n"
     ]
    }
   ],
   "source": [
    "# Import Python Libraries\n",
    "import pandas as pd\n",
    "import numpy as np\n",
    "import datetime \n",
    "# plotting\n",
    "from matplotlib import pyplot as plt\n",
    "import seaborn as sns\n",
    "#For modelling\n",
    "from sklearn.model_selection import train_test_split\n",
    "from sklearn import preprocessing\n",
    "#metrics\n",
    "from sklearn import metrics\n",
    "from sklearn.metrics import mean_absolute_error\n",
    "from sklearn.metrics import r2_score\n",
    "from sklearn.metrics import f1_score\n",
    "from sklearn.metrics import accuracy_score\n",
    "from sklearn.metrics import mean_squared_error\n",
    "#Lassocv\n",
    "from sklearn.feature_selection import SelectFromModel\n",
    "from sklearn.linear_model import LassoCV\n",
    "from sklearn.linear_model import Lasso\n",
    "from sklearn import linear_model\n",
    "print(__doc__)\n",
    "from sklearn.model_selection import train_test_split, cross_val_score"
   ]
  },
  {
   "cell_type": "code",
   "execution_count": 71,
   "metadata": {},
   "outputs": [],
   "source": [
    "#Reading the excel file into dataframe\n",
    "df=pd.read_excel(\"City Hotel_Final Analysis.xlsx\")"
   ]
  },
  {
   "cell_type": "code",
   "execution_count": 72,
   "metadata": {},
   "outputs": [
    {
     "data": {
      "text/html": [
       "<div>\n",
       "<style scoped>\n",
       "    .dataframe tbody tr th:only-of-type {\n",
       "        vertical-align: middle;\n",
       "    }\n",
       "\n",
       "    .dataframe tbody tr th {\n",
       "        vertical-align: top;\n",
       "    }\n",
       "\n",
       "    .dataframe thead th {\n",
       "        text-align: right;\n",
       "    }\n",
       "</style>\n",
       "<table border=\"1\" class=\"dataframe\">\n",
       "  <thead>\n",
       "    <tr style=\"text-align: right;\">\n",
       "      <th></th>\n",
       "      <th>hotel</th>\n",
       "      <th>is_Canceled</th>\n",
       "      <th>lead_time</th>\n",
       "      <th>arrival_date_year</th>\n",
       "      <th>arrival_date_month</th>\n",
       "      <th>arrival_date_year_month</th>\n",
       "      <th>arrival_date_week_number</th>\n",
       "      <th>arrival_date_day_of_month</th>\n",
       "      <th>stays_in_weekend_nights</th>\n",
       "      <th>stays_in_week_nights</th>\n",
       "      <th>...</th>\n",
       "      <th>deposit_type</th>\n",
       "      <th>agent</th>\n",
       "      <th>company</th>\n",
       "      <th>days_in_waiting_list</th>\n",
       "      <th>customer_type</th>\n",
       "      <th>adr</th>\n",
       "      <th>required_car_parking_spaces</th>\n",
       "      <th>total_of_special_requests</th>\n",
       "      <th>reservation_status</th>\n",
       "      <th>reservation_status_date</th>\n",
       "    </tr>\n",
       "  </thead>\n",
       "  <tbody>\n",
       "    <tr>\n",
       "      <th>0</th>\n",
       "      <td>City Hotel</td>\n",
       "      <td>0</td>\n",
       "      <td>1</td>\n",
       "      <td>2015</td>\n",
       "      <td>September</td>\n",
       "      <td>2015-September</td>\n",
       "      <td>36</td>\n",
       "      <td>1</td>\n",
       "      <td>0</td>\n",
       "      <td>1</td>\n",
       "      <td>...</td>\n",
       "      <td>No Deposit</td>\n",
       "      <td>9.0</td>\n",
       "      <td>NaN</td>\n",
       "      <td>0</td>\n",
       "      <td>Contract</td>\n",
       "      <td>95.00</td>\n",
       "      <td>0</td>\n",
       "      <td>1</td>\n",
       "      <td>Check-Out</td>\n",
       "      <td>2015-09-02</td>\n",
       "    </tr>\n",
       "    <tr>\n",
       "      <th>1</th>\n",
       "      <td>City Hotel</td>\n",
       "      <td>0</td>\n",
       "      <td>8</td>\n",
       "      <td>2015</td>\n",
       "      <td>September</td>\n",
       "      <td>2015-September</td>\n",
       "      <td>36</td>\n",
       "      <td>1</td>\n",
       "      <td>0</td>\n",
       "      <td>2</td>\n",
       "      <td>...</td>\n",
       "      <td>No Deposit</td>\n",
       "      <td>7.0</td>\n",
       "      <td>NaN</td>\n",
       "      <td>0</td>\n",
       "      <td>Transient</td>\n",
       "      <td>73.15</td>\n",
       "      <td>0</td>\n",
       "      <td>0</td>\n",
       "      <td>Check-Out</td>\n",
       "      <td>2015-09-03</td>\n",
       "    </tr>\n",
       "    <tr>\n",
       "      <th>2</th>\n",
       "      <td>City Hotel</td>\n",
       "      <td>0</td>\n",
       "      <td>0</td>\n",
       "      <td>2015</td>\n",
       "      <td>September</td>\n",
       "      <td>2015-September</td>\n",
       "      <td>36</td>\n",
       "      <td>1</td>\n",
       "      <td>0</td>\n",
       "      <td>1</td>\n",
       "      <td>...</td>\n",
       "      <td>No Deposit</td>\n",
       "      <td>NaN</td>\n",
       "      <td>NaN</td>\n",
       "      <td>0</td>\n",
       "      <td>Transient</td>\n",
       "      <td>0.00</td>\n",
       "      <td>0</td>\n",
       "      <td>0</td>\n",
       "      <td>Check-Out</td>\n",
       "      <td>2015-09-02</td>\n",
       "    </tr>\n",
       "    <tr>\n",
       "      <th>3</th>\n",
       "      <td>City Hotel</td>\n",
       "      <td>0</td>\n",
       "      <td>1</td>\n",
       "      <td>2015</td>\n",
       "      <td>September</td>\n",
       "      <td>2015-September</td>\n",
       "      <td>36</td>\n",
       "      <td>1</td>\n",
       "      <td>0</td>\n",
       "      <td>1</td>\n",
       "      <td>...</td>\n",
       "      <td>No Deposit</td>\n",
       "      <td>NaN</td>\n",
       "      <td>45.0</td>\n",
       "      <td>0</td>\n",
       "      <td>Transient</td>\n",
       "      <td>0.00</td>\n",
       "      <td>0</td>\n",
       "      <td>1</td>\n",
       "      <td>Check-Out</td>\n",
       "      <td>2015-09-02</td>\n",
       "    </tr>\n",
       "    <tr>\n",
       "      <th>4</th>\n",
       "      <td>City Hotel</td>\n",
       "      <td>0</td>\n",
       "      <td>1</td>\n",
       "      <td>2015</td>\n",
       "      <td>September</td>\n",
       "      <td>2015-September</td>\n",
       "      <td>36</td>\n",
       "      <td>1</td>\n",
       "      <td>0</td>\n",
       "      <td>1</td>\n",
       "      <td>...</td>\n",
       "      <td>No Deposit</td>\n",
       "      <td>NaN</td>\n",
       "      <td>45.0</td>\n",
       "      <td>0</td>\n",
       "      <td>Transient</td>\n",
       "      <td>0.00</td>\n",
       "      <td>0</td>\n",
       "      <td>1</td>\n",
       "      <td>Check-Out</td>\n",
       "      <td>2015-09-02</td>\n",
       "    </tr>\n",
       "  </tbody>\n",
       "</table>\n",
       "<p>5 rows × 33 columns</p>\n",
       "</div>"
      ],
      "text/plain": [
       "        hotel  is_Canceled  lead_time  arrival_date_year arrival_date_month  \\\n",
       "0  City Hotel            0          1               2015          September   \n",
       "1  City Hotel            0          8               2015          September   \n",
       "2  City Hotel            0          0               2015          September   \n",
       "3  City Hotel            0          1               2015          September   \n",
       "4  City Hotel            0          1               2015          September   \n",
       "\n",
       "  arrival_date_year_month  arrival_date_week_number  \\\n",
       "0          2015-September                        36   \n",
       "1          2015-September                        36   \n",
       "2          2015-September                        36   \n",
       "3          2015-September                        36   \n",
       "4          2015-September                        36   \n",
       "\n",
       "   arrival_date_day_of_month  stays_in_weekend_nights  stays_in_week_nights  \\\n",
       "0                          1                        0                     1   \n",
       "1                          1                        0                     2   \n",
       "2                          1                        0                     1   \n",
       "3                          1                        0                     1   \n",
       "4                          1                        0                     1   \n",
       "\n",
       "   ...  deposit_type  agent  company days_in_waiting_list customer_type  \\\n",
       "0  ...    No Deposit    9.0      NaN                    0      Contract   \n",
       "1  ...    No Deposit    7.0      NaN                    0     Transient   \n",
       "2  ...    No Deposit    NaN      NaN                    0     Transient   \n",
       "3  ...    No Deposit    NaN     45.0                    0     Transient   \n",
       "4  ...    No Deposit    NaN     45.0                    0     Transient   \n",
       "\n",
       "     adr required_car_parking_spaces  total_of_special_requests  \\\n",
       "0  95.00                           0                          1   \n",
       "1  73.15                           0                          0   \n",
       "2   0.00                           0                          0   \n",
       "3   0.00                           0                          1   \n",
       "4   0.00                           0                          1   \n",
       "\n",
       "   reservation_status  reservation_status_date  \n",
       "0           Check-Out               2015-09-02  \n",
       "1           Check-Out               2015-09-03  \n",
       "2           Check-Out               2015-09-02  \n",
       "3           Check-Out               2015-09-02  \n",
       "4           Check-Out               2015-09-02  \n",
       "\n",
       "[5 rows x 33 columns]"
      ]
     },
     "execution_count": 72,
     "metadata": {},
     "output_type": "execute_result"
    }
   ],
   "source": [
    "df.head()"
   ]
  },
  {
   "cell_type": "code",
   "execution_count": 73,
   "metadata": {},
   "outputs": [],
   "source": [
    "# create an Empty DataFrame object to create dummy objects\n",
    "df_dummy = pd.DataFrame() "
   ]
  },
  {
   "cell_type": "code",
   "execution_count": 74,
   "metadata": {},
   "outputs": [],
   "source": [
    "def arrival_date_qtr_dummy(df) :\n",
    "    if (df[\"arrival_date_month\"] in [\"January\" ,\"February\", \"March\"]) :\n",
    "        return 1\n",
    "    elif (df[\"arrival_date_month\"] in [\"April\" ,\"May\", \"June\"]) :\n",
    "        return 2\n",
    "    elif (df[\"arrival_date_month\"] in [\"July\" ,\"August\", \"September\"]) :\n",
    "        return 3\n",
    "    return 4\n",
    "df_dummy[\"arrival_date_qtr_dummy\"] = df.apply(lambda df:arrival_date_qtr_dummy(df),axis = 1)"
   ]
  },
  {
   "cell_type": "code",
   "execution_count": 75,
   "metadata": {},
   "outputs": [],
   "source": [
    "#convert month to QTR\n",
    "#df_dummy['arrival_date_qtr'] = df['arrival_date_year_month'].map(lambda df: pd.Period(df,'Q'))"
   ]
  },
  {
   "cell_type": "code",
   "execution_count": 76,
   "metadata": {},
   "outputs": [],
   "source": [
    "def stays_in_week_nights_dummy(df) :\n",
    "    if (df[\"stays_in_week_nights\"]== 2) :\n",
    "        return 1\n",
    "    return 0\n",
    "df_dummy[\"stays_in_week_nights_dummy\"] = df.apply(lambda df:stays_in_week_nights_dummy(df),axis = 1)"
   ]
  },
  {
   "cell_type": "code",
   "execution_count": 77,
   "metadata": {},
   "outputs": [],
   "source": [
    "def country_dummy(df) :\n",
    "    if (df[\"country\"]== \"PRT\") :\n",
    "        return 1\n",
    "    return 0\n",
    "df_dummy[\"country_dummy\"] = df.apply(lambda df:country_dummy(df),axis = 1)"
   ]
  },
  {
   "cell_type": "code",
   "execution_count": 78,
   "metadata": {},
   "outputs": [],
   "source": [
    "def reserved_room_type_dummy(df) :\n",
    "    if (df[\"reserved_room_type\"]== \"A\") :\n",
    "        return 1\n",
    "    return 0\n",
    "df_dummy[\"reserved_room_type_dummy\"] = df.apply(lambda df:reserved_room_type_dummy(df),axis = 1)"
   ]
  },
  {
   "cell_type": "code",
   "execution_count": 79,
   "metadata": {},
   "outputs": [],
   "source": [
    "def assigned_room_type_dummy(df) :\n",
    "    if (df[\"assigned_room_type\"]== \"A\") :\n",
    "        return 1\n",
    "    return 0\n",
    "df_dummy[\"assigned_room_type_dummy\"] = df.apply(lambda df:assigned_room_type_dummy(df),axis = 1)"
   ]
  },
  {
   "cell_type": "code",
   "execution_count": 80,
   "metadata": {},
   "outputs": [],
   "source": [
    "def agent_dummy(df) :\n",
    "    if (df[\"agent\"]== \"240\") :\n",
    "        return 1\n",
    "    return 0\n",
    "df_dummy[\"agent_dummy\"] = df.apply(lambda df:agent_dummy(df),axis = 1)"
   ]
  },
  {
   "cell_type": "code",
   "execution_count": 81,
   "metadata": {},
   "outputs": [],
   "source": [
    "def customer_type_dummy(df) :\n",
    "    if (df[\"customer_type\"]== \"Transient\") :\n",
    "        return 1\n",
    "    return 0\n",
    "df_dummy[\"customer_type_dummy\"] = df.apply(lambda df:customer_type_dummy(df),axis = 1)"
   ]
  },
  {
   "cell_type": "code",
   "execution_count": 82,
   "metadata": {},
   "outputs": [],
   "source": [
    "def distribution_channel_dummy(df) :\n",
    "    if (df[\"distribution_channel\"]== \"TA/TO\") :\n",
    "        return 1\n",
    "    return 0\n",
    "df_dummy[\"distribution_channel_dummy\"] = df.apply(lambda df:distribution_channel_dummy(df),axis = 1)"
   ]
  },
  {
   "cell_type": "code",
   "execution_count": 83,
   "metadata": {},
   "outputs": [
    {
     "name": "stdout",
     "output_type": "stream",
     "text": [
      "<class 'pandas.core.frame.DataFrame'>\n",
      "RangeIndex: 65535 entries, 0 to 65534\n",
      "Data columns (total 8 columns):\n",
      " #   Column                      Non-Null Count  Dtype\n",
      "---  ------                      --------------  -----\n",
      " 0   arrival_date_qtr_dummy      65535 non-null  int64\n",
      " 1   stays_in_week_nights_dummy  65535 non-null  int64\n",
      " 2   country_dummy               65535 non-null  int64\n",
      " 3   reserved_room_type_dummy    65535 non-null  int64\n",
      " 4   assigned_room_type_dummy    65535 non-null  int64\n",
      " 5   agent_dummy                 65535 non-null  int64\n",
      " 6   customer_type_dummy         65535 non-null  int64\n",
      " 7   distribution_channel_dummy  65535 non-null  int64\n",
      "dtypes: int64(8)\n",
      "memory usage: 4.0 MB\n"
     ]
    }
   ],
   "source": [
    "df_dummy.info()"
   ]
  },
  {
   "cell_type": "code",
   "execution_count": 84,
   "metadata": {},
   "outputs": [
    {
     "data": {
      "text/html": [
       "<div>\n",
       "<style scoped>\n",
       "    .dataframe tbody tr th:only-of-type {\n",
       "        vertical-align: middle;\n",
       "    }\n",
       "\n",
       "    .dataframe tbody tr th {\n",
       "        vertical-align: top;\n",
       "    }\n",
       "\n",
       "    .dataframe thead th {\n",
       "        text-align: right;\n",
       "    }\n",
       "</style>\n",
       "<table border=\"1\" class=\"dataframe\">\n",
       "  <thead>\n",
       "    <tr style=\"text-align: right;\">\n",
       "      <th></th>\n",
       "      <th>arrival_date_qtr_dummy</th>\n",
       "      <th>stays_in_week_nights_dummy</th>\n",
       "      <th>country_dummy</th>\n",
       "      <th>reserved_room_type_dummy</th>\n",
       "      <th>assigned_room_type_dummy</th>\n",
       "      <th>agent_dummy</th>\n",
       "      <th>customer_type_dummy</th>\n",
       "      <th>distribution_channel_dummy</th>\n",
       "    </tr>\n",
       "  </thead>\n",
       "  <tbody>\n",
       "    <tr>\n",
       "      <th>0</th>\n",
       "      <td>3</td>\n",
       "      <td>0</td>\n",
       "      <td>0</td>\n",
       "      <td>1</td>\n",
       "      <td>0</td>\n",
       "      <td>0</td>\n",
       "      <td>0</td>\n",
       "      <td>1</td>\n",
       "    </tr>\n",
       "    <tr>\n",
       "      <th>1</th>\n",
       "      <td>3</td>\n",
       "      <td>1</td>\n",
       "      <td>1</td>\n",
       "      <td>1</td>\n",
       "      <td>0</td>\n",
       "      <td>0</td>\n",
       "      <td>1</td>\n",
       "      <td>1</td>\n",
       "    </tr>\n",
       "    <tr>\n",
       "      <th>2</th>\n",
       "      <td>3</td>\n",
       "      <td>0</td>\n",
       "      <td>1</td>\n",
       "      <td>1</td>\n",
       "      <td>0</td>\n",
       "      <td>0</td>\n",
       "      <td>1</td>\n",
       "      <td>0</td>\n",
       "    </tr>\n",
       "    <tr>\n",
       "      <th>3</th>\n",
       "      <td>3</td>\n",
       "      <td>0</td>\n",
       "      <td>1</td>\n",
       "      <td>1</td>\n",
       "      <td>0</td>\n",
       "      <td>0</td>\n",
       "      <td>1</td>\n",
       "      <td>0</td>\n",
       "    </tr>\n",
       "    <tr>\n",
       "      <th>4</th>\n",
       "      <td>3</td>\n",
       "      <td>0</td>\n",
       "      <td>1</td>\n",
       "      <td>1</td>\n",
       "      <td>1</td>\n",
       "      <td>0</td>\n",
       "      <td>1</td>\n",
       "      <td>0</td>\n",
       "    </tr>\n",
       "  </tbody>\n",
       "</table>\n",
       "</div>"
      ],
      "text/plain": [
       "   arrival_date_qtr_dummy  stays_in_week_nights_dummy  country_dummy  \\\n",
       "0                       3                           0              0   \n",
       "1                       3                           1              1   \n",
       "2                       3                           0              1   \n",
       "3                       3                           0              1   \n",
       "4                       3                           0              1   \n",
       "\n",
       "   reserved_room_type_dummy  assigned_room_type_dummy  agent_dummy  \\\n",
       "0                         1                         0            0   \n",
       "1                         1                         0            0   \n",
       "2                         1                         0            0   \n",
       "3                         1                         0            0   \n",
       "4                         1                         1            0   \n",
       "\n",
       "   customer_type_dummy  distribution_channel_dummy  \n",
       "0                    0                           1  \n",
       "1                    1                           1  \n",
       "2                    1                           0  \n",
       "3                    1                           0  \n",
       "4                    1                           0  "
      ]
     },
     "execution_count": 84,
     "metadata": {},
     "output_type": "execute_result"
    }
   ],
   "source": [
    "df_dummy.head()"
   ]
  },
  {
   "cell_type": "code",
   "execution_count": 85,
   "metadata": {},
   "outputs": [],
   "source": [
    "final_df = pd.concat([df, df_dummy], axis=1)"
   ]
  },
  {
   "cell_type": "code",
   "execution_count": 86,
   "metadata": {},
   "outputs": [
    {
     "data": {
      "text/html": [
       "<div>\n",
       "<style scoped>\n",
       "    .dataframe tbody tr th:only-of-type {\n",
       "        vertical-align: middle;\n",
       "    }\n",
       "\n",
       "    .dataframe tbody tr th {\n",
       "        vertical-align: top;\n",
       "    }\n",
       "\n",
       "    .dataframe thead th {\n",
       "        text-align: right;\n",
       "    }\n",
       "</style>\n",
       "<table border=\"1\" class=\"dataframe\">\n",
       "  <thead>\n",
       "    <tr style=\"text-align: right;\">\n",
       "      <th></th>\n",
       "      <th>hotel</th>\n",
       "      <th>is_Canceled</th>\n",
       "      <th>lead_time</th>\n",
       "      <th>arrival_date_year</th>\n",
       "      <th>arrival_date_month</th>\n",
       "      <th>arrival_date_year_month</th>\n",
       "      <th>arrival_date_week_number</th>\n",
       "      <th>arrival_date_day_of_month</th>\n",
       "      <th>stays_in_weekend_nights</th>\n",
       "      <th>stays_in_week_nights</th>\n",
       "      <th>...</th>\n",
       "      <th>reservation_status</th>\n",
       "      <th>reservation_status_date</th>\n",
       "      <th>arrival_date_qtr_dummy</th>\n",
       "      <th>stays_in_week_nights_dummy</th>\n",
       "      <th>country_dummy</th>\n",
       "      <th>reserved_room_type_dummy</th>\n",
       "      <th>assigned_room_type_dummy</th>\n",
       "      <th>agent_dummy</th>\n",
       "      <th>customer_type_dummy</th>\n",
       "      <th>distribution_channel_dummy</th>\n",
       "    </tr>\n",
       "  </thead>\n",
       "  <tbody>\n",
       "    <tr>\n",
       "      <th>0</th>\n",
       "      <td>City Hotel</td>\n",
       "      <td>0</td>\n",
       "      <td>1</td>\n",
       "      <td>2015</td>\n",
       "      <td>September</td>\n",
       "      <td>2015-September</td>\n",
       "      <td>36</td>\n",
       "      <td>1</td>\n",
       "      <td>0</td>\n",
       "      <td>1</td>\n",
       "      <td>...</td>\n",
       "      <td>Check-Out</td>\n",
       "      <td>2015-09-02</td>\n",
       "      <td>3</td>\n",
       "      <td>0</td>\n",
       "      <td>0</td>\n",
       "      <td>1</td>\n",
       "      <td>0</td>\n",
       "      <td>0</td>\n",
       "      <td>0</td>\n",
       "      <td>1</td>\n",
       "    </tr>\n",
       "    <tr>\n",
       "      <th>1</th>\n",
       "      <td>City Hotel</td>\n",
       "      <td>0</td>\n",
       "      <td>8</td>\n",
       "      <td>2015</td>\n",
       "      <td>September</td>\n",
       "      <td>2015-September</td>\n",
       "      <td>36</td>\n",
       "      <td>1</td>\n",
       "      <td>0</td>\n",
       "      <td>2</td>\n",
       "      <td>...</td>\n",
       "      <td>Check-Out</td>\n",
       "      <td>2015-09-03</td>\n",
       "      <td>3</td>\n",
       "      <td>1</td>\n",
       "      <td>1</td>\n",
       "      <td>1</td>\n",
       "      <td>0</td>\n",
       "      <td>0</td>\n",
       "      <td>1</td>\n",
       "      <td>1</td>\n",
       "    </tr>\n",
       "    <tr>\n",
       "      <th>2</th>\n",
       "      <td>City Hotel</td>\n",
       "      <td>0</td>\n",
       "      <td>0</td>\n",
       "      <td>2015</td>\n",
       "      <td>September</td>\n",
       "      <td>2015-September</td>\n",
       "      <td>36</td>\n",
       "      <td>1</td>\n",
       "      <td>0</td>\n",
       "      <td>1</td>\n",
       "      <td>...</td>\n",
       "      <td>Check-Out</td>\n",
       "      <td>2015-09-02</td>\n",
       "      <td>3</td>\n",
       "      <td>0</td>\n",
       "      <td>1</td>\n",
       "      <td>1</td>\n",
       "      <td>0</td>\n",
       "      <td>0</td>\n",
       "      <td>1</td>\n",
       "      <td>0</td>\n",
       "    </tr>\n",
       "    <tr>\n",
       "      <th>3</th>\n",
       "      <td>City Hotel</td>\n",
       "      <td>0</td>\n",
       "      <td>1</td>\n",
       "      <td>2015</td>\n",
       "      <td>September</td>\n",
       "      <td>2015-September</td>\n",
       "      <td>36</td>\n",
       "      <td>1</td>\n",
       "      <td>0</td>\n",
       "      <td>1</td>\n",
       "      <td>...</td>\n",
       "      <td>Check-Out</td>\n",
       "      <td>2015-09-02</td>\n",
       "      <td>3</td>\n",
       "      <td>0</td>\n",
       "      <td>1</td>\n",
       "      <td>1</td>\n",
       "      <td>0</td>\n",
       "      <td>0</td>\n",
       "      <td>1</td>\n",
       "      <td>0</td>\n",
       "    </tr>\n",
       "    <tr>\n",
       "      <th>4</th>\n",
       "      <td>City Hotel</td>\n",
       "      <td>0</td>\n",
       "      <td>1</td>\n",
       "      <td>2015</td>\n",
       "      <td>September</td>\n",
       "      <td>2015-September</td>\n",
       "      <td>36</td>\n",
       "      <td>1</td>\n",
       "      <td>0</td>\n",
       "      <td>1</td>\n",
       "      <td>...</td>\n",
       "      <td>Check-Out</td>\n",
       "      <td>2015-09-02</td>\n",
       "      <td>3</td>\n",
       "      <td>0</td>\n",
       "      <td>1</td>\n",
       "      <td>1</td>\n",
       "      <td>1</td>\n",
       "      <td>0</td>\n",
       "      <td>1</td>\n",
       "      <td>0</td>\n",
       "    </tr>\n",
       "  </tbody>\n",
       "</table>\n",
       "<p>5 rows × 41 columns</p>\n",
       "</div>"
      ],
      "text/plain": [
       "        hotel  is_Canceled  lead_time  arrival_date_year arrival_date_month  \\\n",
       "0  City Hotel            0          1               2015          September   \n",
       "1  City Hotel            0          8               2015          September   \n",
       "2  City Hotel            0          0               2015          September   \n",
       "3  City Hotel            0          1               2015          September   \n",
       "4  City Hotel            0          1               2015          September   \n",
       "\n",
       "  arrival_date_year_month  arrival_date_week_number  \\\n",
       "0          2015-September                        36   \n",
       "1          2015-September                        36   \n",
       "2          2015-September                        36   \n",
       "3          2015-September                        36   \n",
       "4          2015-September                        36   \n",
       "\n",
       "   arrival_date_day_of_month  stays_in_weekend_nights  stays_in_week_nights  \\\n",
       "0                          1                        0                     1   \n",
       "1                          1                        0                     2   \n",
       "2                          1                        0                     1   \n",
       "3                          1                        0                     1   \n",
       "4                          1                        0                     1   \n",
       "\n",
       "   ...  reservation_status  reservation_status_date  arrival_date_qtr_dummy  \\\n",
       "0  ...           Check-Out               2015-09-02                       3   \n",
       "1  ...           Check-Out               2015-09-03                       3   \n",
       "2  ...           Check-Out               2015-09-02                       3   \n",
       "3  ...           Check-Out               2015-09-02                       3   \n",
       "4  ...           Check-Out               2015-09-02                       3   \n",
       "\n",
       "  stays_in_week_nights_dummy country_dummy reserved_room_type_dummy  \\\n",
       "0                          0             0                        1   \n",
       "1                          1             1                        1   \n",
       "2                          0             1                        1   \n",
       "3                          0             1                        1   \n",
       "4                          0             1                        1   \n",
       "\n",
       "  assigned_room_type_dummy  agent_dummy  customer_type_dummy  \\\n",
       "0                        0            0                    0   \n",
       "1                        0            0                    1   \n",
       "2                        0            0                    1   \n",
       "3                        0            0                    1   \n",
       "4                        1            0                    1   \n",
       "\n",
       "   distribution_channel_dummy  \n",
       "0                           1  \n",
       "1                           1  \n",
       "2                           0  \n",
       "3                           0  \n",
       "4                           0  \n",
       "\n",
       "[5 rows x 41 columns]"
      ]
     },
     "execution_count": 86,
     "metadata": {},
     "output_type": "execute_result"
    }
   ],
   "source": [
    "final_df.head()"
   ]
  },
  {
   "cell_type": "code",
   "execution_count": 87,
   "metadata": {
    "scrolled": true
   },
   "outputs": [],
   "source": [
    "#drop columns not needed for the regression from the final dataset\n",
    "final_df=final_df.drop(['hotel',\n",
    "               'arrival_date_month', \n",
    "               'arrival_date_week_number',\n",
    "               'arrival_date_day_of_month',\n",
    "               'meal',\n",
    "               'country',\n",
    "               'market_segment',\n",
    "               'distribution_channel',\n",
    "               'reserved_room_type',\n",
    "               'assigned_room_type',\n",
    "               'deposit_type',\n",
    "               'agent',\n",
    "               'company',\n",
    "               'customer_type',\n",
    "             \"arrival_date_year_month\", \"reservation_status_date\", \"reservation_status\"], axis=1)\n",
    "#dropped reservation_satatus as it was highly correlated the rest were dropped based on our EDA analysis"
   ]
  },
  {
   "cell_type": "code",
   "execution_count": 88,
   "metadata": {},
   "outputs": [
    {
     "data": {
      "text/plain": [
       "Index(['is_Canceled', 'lead_time', 'arrival_date_year',\n",
       "       'stays_in_weekend_nights', 'stays_in_week_nights', 'adults', 'children',\n",
       "       'babies', 'is_repeated_guest', 'previous_cancellations',\n",
       "       'previous_bookings_not_Canceled', 'booking_changes',\n",
       "       'days_in_waiting_list', 'adr', 'required_car_parking_spaces',\n",
       "       'total_of_special_requests', 'arrival_date_qtr_dummy',\n",
       "       'stays_in_week_nights_dummy', 'country_dummy',\n",
       "       'reserved_room_type_dummy', 'assigned_room_type_dummy', 'agent_dummy',\n",
       "       'customer_type_dummy', 'distribution_channel_dummy'],\n",
       "      dtype='object')"
      ]
     },
     "execution_count": 88,
     "metadata": {},
     "output_type": "execute_result"
    }
   ],
   "source": [
    "final_df.columns"
   ]
  },
  {
   "cell_type": "code",
   "execution_count": 89,
   "metadata": {
    "scrolled": false
   },
   "outputs": [
    {
     "name": "stdout",
     "output_type": "stream",
     "text": [
      "<class 'pandas.core.frame.DataFrame'>\n",
      "RangeIndex: 65535 entries, 0 to 65534\n",
      "Data columns (total 24 columns):\n",
      " #   Column                          Non-Null Count  Dtype  \n",
      "---  ------                          --------------  -----  \n",
      " 0   is_Canceled                     65535 non-null  int64  \n",
      " 1   lead_time                       65535 non-null  int64  \n",
      " 2   arrival_date_year               65535 non-null  int64  \n",
      " 3   stays_in_weekend_nights         65535 non-null  int64  \n",
      " 4   stays_in_week_nights            65535 non-null  int64  \n",
      " 5   adults                          65535 non-null  int64  \n",
      " 6   children                        65535 non-null  int64  \n",
      " 7   babies                          65535 non-null  int64  \n",
      " 8   is_repeated_guest               65535 non-null  int64  \n",
      " 9   previous_cancellations          65535 non-null  int64  \n",
      " 10  previous_bookings_not_Canceled  65535 non-null  int64  \n",
      " 11  booking_changes                 65535 non-null  int64  \n",
      " 12  days_in_waiting_list            65535 non-null  int64  \n",
      " 13  adr                             65535 non-null  float64\n",
      " 14  required_car_parking_spaces     65535 non-null  int64  \n",
      " 15  total_of_special_requests       65535 non-null  int64  \n",
      " 16  arrival_date_qtr_dummy          65535 non-null  int64  \n",
      " 17  stays_in_week_nights_dummy      65535 non-null  int64  \n",
      " 18  country_dummy                   65535 non-null  int64  \n",
      " 19  reserved_room_type_dummy        65535 non-null  int64  \n",
      " 20  assigned_room_type_dummy        65535 non-null  int64  \n",
      " 21  agent_dummy                     65535 non-null  int64  \n",
      " 22  customer_type_dummy             65535 non-null  int64  \n",
      " 23  distribution_channel_dummy      65535 non-null  int64  \n",
      "dtypes: float64(1), int64(23)\n",
      "memory usage: 12.0 MB\n"
     ]
    }
   ],
   "source": [
    "final_df.info() "
   ]
  },
  {
   "cell_type": "code",
   "execution_count": 90,
   "metadata": {
    "scrolled": true
   },
   "outputs": [
    {
     "data": {
      "text/html": [
       "<div>\n",
       "<style scoped>\n",
       "    .dataframe tbody tr th:only-of-type {\n",
       "        vertical-align: middle;\n",
       "    }\n",
       "\n",
       "    .dataframe tbody tr th {\n",
       "        vertical-align: top;\n",
       "    }\n",
       "\n",
       "    .dataframe thead th {\n",
       "        text-align: right;\n",
       "    }\n",
       "</style>\n",
       "<table border=\"1\" class=\"dataframe\">\n",
       "  <thead>\n",
       "    <tr style=\"text-align: right;\">\n",
       "      <th></th>\n",
       "      <th>is_Canceled</th>\n",
       "      <th>lead_time</th>\n",
       "      <th>arrival_date_year</th>\n",
       "      <th>stays_in_weekend_nights</th>\n",
       "      <th>stays_in_week_nights</th>\n",
       "      <th>adults</th>\n",
       "      <th>children</th>\n",
       "      <th>babies</th>\n",
       "      <th>is_repeated_guest</th>\n",
       "      <th>previous_cancellations</th>\n",
       "      <th>...</th>\n",
       "      <th>required_car_parking_spaces</th>\n",
       "      <th>total_of_special_requests</th>\n",
       "      <th>arrival_date_qtr_dummy</th>\n",
       "      <th>stays_in_week_nights_dummy</th>\n",
       "      <th>country_dummy</th>\n",
       "      <th>reserved_room_type_dummy</th>\n",
       "      <th>assigned_room_type_dummy</th>\n",
       "      <th>agent_dummy</th>\n",
       "      <th>customer_type_dummy</th>\n",
       "      <th>distribution_channel_dummy</th>\n",
       "    </tr>\n",
       "  </thead>\n",
       "  <tbody>\n",
       "    <tr>\n",
       "      <th>0</th>\n",
       "      <td>0</td>\n",
       "      <td>1</td>\n",
       "      <td>2015</td>\n",
       "      <td>0</td>\n",
       "      <td>1</td>\n",
       "      <td>1</td>\n",
       "      <td>0</td>\n",
       "      <td>0</td>\n",
       "      <td>0</td>\n",
       "      <td>0</td>\n",
       "      <td>...</td>\n",
       "      <td>0</td>\n",
       "      <td>1</td>\n",
       "      <td>3</td>\n",
       "      <td>0</td>\n",
       "      <td>0</td>\n",
       "      <td>1</td>\n",
       "      <td>0</td>\n",
       "      <td>0</td>\n",
       "      <td>0</td>\n",
       "      <td>1</td>\n",
       "    </tr>\n",
       "    <tr>\n",
       "      <th>1</th>\n",
       "      <td>0</td>\n",
       "      <td>8</td>\n",
       "      <td>2015</td>\n",
       "      <td>0</td>\n",
       "      <td>2</td>\n",
       "      <td>1</td>\n",
       "      <td>0</td>\n",
       "      <td>0</td>\n",
       "      <td>0</td>\n",
       "      <td>0</td>\n",
       "      <td>...</td>\n",
       "      <td>0</td>\n",
       "      <td>0</td>\n",
       "      <td>3</td>\n",
       "      <td>1</td>\n",
       "      <td>1</td>\n",
       "      <td>1</td>\n",
       "      <td>0</td>\n",
       "      <td>0</td>\n",
       "      <td>1</td>\n",
       "      <td>1</td>\n",
       "    </tr>\n",
       "    <tr>\n",
       "      <th>2</th>\n",
       "      <td>0</td>\n",
       "      <td>0</td>\n",
       "      <td>2015</td>\n",
       "      <td>0</td>\n",
       "      <td>1</td>\n",
       "      <td>2</td>\n",
       "      <td>0</td>\n",
       "      <td>0</td>\n",
       "      <td>0</td>\n",
       "      <td>0</td>\n",
       "      <td>...</td>\n",
       "      <td>0</td>\n",
       "      <td>0</td>\n",
       "      <td>3</td>\n",
       "      <td>0</td>\n",
       "      <td>1</td>\n",
       "      <td>1</td>\n",
       "      <td>0</td>\n",
       "      <td>0</td>\n",
       "      <td>1</td>\n",
       "      <td>0</td>\n",
       "    </tr>\n",
       "    <tr>\n",
       "      <th>3</th>\n",
       "      <td>0</td>\n",
       "      <td>1</td>\n",
       "      <td>2015</td>\n",
       "      <td>0</td>\n",
       "      <td>1</td>\n",
       "      <td>1</td>\n",
       "      <td>0</td>\n",
       "      <td>0</td>\n",
       "      <td>0</td>\n",
       "      <td>0</td>\n",
       "      <td>...</td>\n",
       "      <td>0</td>\n",
       "      <td>1</td>\n",
       "      <td>3</td>\n",
       "      <td>0</td>\n",
       "      <td>1</td>\n",
       "      <td>1</td>\n",
       "      <td>0</td>\n",
       "      <td>0</td>\n",
       "      <td>1</td>\n",
       "      <td>0</td>\n",
       "    </tr>\n",
       "    <tr>\n",
       "      <th>4</th>\n",
       "      <td>0</td>\n",
       "      <td>1</td>\n",
       "      <td>2015</td>\n",
       "      <td>0</td>\n",
       "      <td>1</td>\n",
       "      <td>1</td>\n",
       "      <td>0</td>\n",
       "      <td>0</td>\n",
       "      <td>0</td>\n",
       "      <td>0</td>\n",
       "      <td>...</td>\n",
       "      <td>0</td>\n",
       "      <td>1</td>\n",
       "      <td>3</td>\n",
       "      <td>0</td>\n",
       "      <td>1</td>\n",
       "      <td>1</td>\n",
       "      <td>1</td>\n",
       "      <td>0</td>\n",
       "      <td>1</td>\n",
       "      <td>0</td>\n",
       "    </tr>\n",
       "  </tbody>\n",
       "</table>\n",
       "<p>5 rows × 24 columns</p>\n",
       "</div>"
      ],
      "text/plain": [
       "   is_Canceled  lead_time  arrival_date_year  stays_in_weekend_nights  \\\n",
       "0            0          1               2015                        0   \n",
       "1            0          8               2015                        0   \n",
       "2            0          0               2015                        0   \n",
       "3            0          1               2015                        0   \n",
       "4            0          1               2015                        0   \n",
       "\n",
       "   stays_in_week_nights  adults  children  babies  is_repeated_guest  \\\n",
       "0                     1       1         0       0                  0   \n",
       "1                     2       1         0       0                  0   \n",
       "2                     1       2         0       0                  0   \n",
       "3                     1       1         0       0                  0   \n",
       "4                     1       1         0       0                  0   \n",
       "\n",
       "   previous_cancellations  ...  required_car_parking_spaces  \\\n",
       "0                       0  ...                            0   \n",
       "1                       0  ...                            0   \n",
       "2                       0  ...                            0   \n",
       "3                       0  ...                            0   \n",
       "4                       0  ...                            0   \n",
       "\n",
       "   total_of_special_requests  arrival_date_qtr_dummy  \\\n",
       "0                          1                       3   \n",
       "1                          0                       3   \n",
       "2                          0                       3   \n",
       "3                          1                       3   \n",
       "4                          1                       3   \n",
       "\n",
       "   stays_in_week_nights_dummy  country_dummy  reserved_room_type_dummy  \\\n",
       "0                           0              0                         1   \n",
       "1                           1              1                         1   \n",
       "2                           0              1                         1   \n",
       "3                           0              1                         1   \n",
       "4                           0              1                         1   \n",
       "\n",
       "   assigned_room_type_dummy  agent_dummy  customer_type_dummy  \\\n",
       "0                         0            0                    0   \n",
       "1                         0            0                    1   \n",
       "2                         0            0                    1   \n",
       "3                         0            0                    1   \n",
       "4                         1            0                    1   \n",
       "\n",
       "   distribution_channel_dummy  \n",
       "0                           1  \n",
       "1                           1  \n",
       "2                           0  \n",
       "3                           0  \n",
       "4                           0  \n",
       "\n",
       "[5 rows x 24 columns]"
      ]
     },
     "execution_count": 90,
     "metadata": {},
     "output_type": "execute_result"
    }
   ],
   "source": [
    "final_df.head()"
   ]
  },
  {
   "cell_type": "code",
   "execution_count": 91,
   "metadata": {},
   "outputs": [
    {
     "data": {
      "text/plain": [
       "<matplotlib.axes._subplots.AxesSubplot at 0x1ccd9633f48>"
      ]
     },
     "execution_count": 91,
     "metadata": {},
     "output_type": "execute_result"
    },
    {
     "data": {
      "image/png": "[encoded data removed]",
      "text/plain": [
       "<Figure size 792x648 with 2 Axes>"
      ]
     },
     "metadata": {
      "needs_background": "light"
     },
     "output_type": "display_data"
    }
   ],
   "source": [
    "#EDA on fields \n",
    "#correlation\n",
    "correlation = final_df.corr()\n",
    "f, ax = plt.subplots(figsize=(11, 9))\n",
    "sns.heatmap(correlation,cmap='coolwarm')"
   ]
  },
  {
   "cell_type": "code",
   "execution_count": 93,
   "metadata": {},
   "outputs": [
    {
     "data": {
      "text/plain": [
       "0    34609\n",
       "1    30926\n",
       "Name: is_Canceled, dtype: int64"
      ]
     },
     "execution_count": 93,
     "metadata": {},
     "output_type": "execute_result"
    }
   ],
   "source": [
    "#Check for class imbalance\n",
    "final_df['is_Canceled'].value_counts()"
   ]
  },
  {
   "cell_type": "code",
   "execution_count": 94,
   "metadata": {
    "scrolled": true
   },
   "outputs": [],
   "source": [
    "#Input and output variables\n",
    "X,y = final_df.drop('is_Canceled',axis=1),final_df['is_Canceled']"
   ]
  },
  {
   "cell_type": "code",
   "execution_count": 95,
   "metadata": {},
   "outputs": [],
   "source": [
    "#Split the data into 70-30 train test \n",
    "X_train, X_test, y_train, y_test = train_test_split(X, y, test_size=0.30,random_state=50)"
   ]
  },
  {
   "cell_type": "code",
   "execution_count": 96,
   "metadata": {},
   "outputs": [
    {
     "data": {
      "text/plain": [
       "((45874, 23), (19661, 23), (45874,), (19661,))"
      ]
     },
     "execution_count": 96,
     "metadata": {},
     "output_type": "execute_result"
    }
   ],
   "source": [
    "X_train.shape, X_test.shape ,y_train.shape, y_test.shape"
   ]
  },
  {
   "cell_type": "code",
   "execution_count": 97,
   "metadata": {},
   "outputs": [
    {
     "name": "stderr",
     "output_type": "stream",
     "text": [
      "[Parallel(n_jobs=1)]: Using backend SequentialBackend with 1 concurrent workers.\n",
      "[Parallel(n_jobs=1)]: Done   1 out of   1 | elapsed:    0.0s remaining:    0.0s\n",
      "[Parallel(n_jobs=1)]: Done  23 out of  23 | elapsed:    1.3s finished\n",
      "\n",
      "[2020-11-23 10:56:18] Features: 1/10 -- score: 0.6669137322281907[Parallel(n_jobs=1)]: Using backend SequentialBackend with 1 concurrent workers.\n",
      "[Parallel(n_jobs=1)]: Done   1 out of   1 | elapsed:    0.1s remaining:    0.0s\n",
      "[Parallel(n_jobs=1)]: Done  22 out of  22 | elapsed:    1.6s finished\n",
      "\n",
      "[2020-11-23 10:56:20] Features: 2/10 -- score: 0.7036665199902887[Parallel(n_jobs=1)]: Using backend SequentialBackend with 1 concurrent workers.\n",
      "[Parallel(n_jobs=1)]: Done   1 out of   1 | elapsed:    0.1s remaining:    0.0s\n",
      "[Parallel(n_jobs=1)]: Done  21 out of  21 | elapsed:    5.1s finished\n",
      "\n",
      "[2020-11-23 10:56:25] Features: 3/10 -- score: 0.7077428736694769[Parallel(n_jobs=1)]: Using backend SequentialBackend with 1 concurrent workers.\n",
      "[Parallel(n_jobs=1)]: Done   1 out of   1 | elapsed:    0.2s remaining:    0.0s\n",
      "[Parallel(n_jobs=1)]: Done  20 out of  20 | elapsed:    5.7s finished\n",
      "\n",
      "[2020-11-23 10:56:31] Features: 4/10 -- score: 0.731307437639631[Parallel(n_jobs=1)]: Using backend SequentialBackend with 1 concurrent workers.\n",
      "[Parallel(n_jobs=1)]: Done   1 out of   1 | elapsed:    0.3s remaining:    0.0s\n",
      "[Parallel(n_jobs=1)]: Done  19 out of  19 | elapsed:    7.2s finished\n",
      "\n",
      "[2020-11-23 10:56:38] Features: 5/10 -- score: 0.7531498157701243[Parallel(n_jobs=1)]: Using backend SequentialBackend with 1 concurrent workers.\n",
      "[Parallel(n_jobs=1)]: Done   1 out of   1 | elapsed:    0.5s remaining:    0.0s\n",
      "[Parallel(n_jobs=1)]: Done  18 out of  18 | elapsed:    9.6s finished\n",
      "\n",
      "[2020-11-23 10:56:48] Features: 6/10 -- score: 0.7689321894685653[Parallel(n_jobs=1)]: Using backend SequentialBackend with 1 concurrent workers.\n",
      "[Parallel(n_jobs=1)]: Done   1 out of   1 | elapsed:    0.8s remaining:    0.0s\n",
      "[Parallel(n_jobs=1)]: Done  17 out of  17 | elapsed:   19.2s finished\n",
      "\n",
      "[2020-11-23 10:57:07] Features: 7/10 -- score: 0.7739895451326774[Parallel(n_jobs=1)]: Using backend SequentialBackend with 1 concurrent workers.\n",
      "[Parallel(n_jobs=1)]: Done   1 out of   1 | elapsed:    3.0s remaining:    0.0s\n",
      "[Parallel(n_jobs=1)]: Done  16 out of  16 | elapsed:   45.7s finished\n",
      "\n",
      "[2020-11-23 10:57:53] Features: 8/10 -- score: 0.7768670120127572[Parallel(n_jobs=1)]: Using backend SequentialBackend with 1 concurrent workers.\n",
      "[Parallel(n_jobs=1)]: Done   1 out of   1 | elapsed:    1.6s remaining:    0.0s\n",
      "[Parallel(n_jobs=1)]: Done  15 out of  15 | elapsed:   41.5s finished\n",
      "\n",
      "[2020-11-23 10:58:35] Features: 9/10 -- score: 0.780899764209868[Parallel(n_jobs=1)]: Using backend SequentialBackend with 1 concurrent workers.\n",
      "[Parallel(n_jobs=1)]: Done   1 out of   1 | elapsed:    1.3s remaining:    0.0s\n",
      "[Parallel(n_jobs=1)]: Done  14 out of  14 | elapsed:   39.7s finished\n",
      "\n",
      "[2020-11-23 10:59:14] Features: 10/10 -- score: 0.7841260030315246"
     ]
    }
   ],
   "source": [
    "#forward backward selection\n",
    "# Build logistic rregression to use in feature selection\n",
    "#Forward selection\n",
    "from mlxtend.feature_selection import SequentialFeatureSelector as sfs\n",
    "lr = LogisticRegression(max_iter=10000)\n",
    "\n",
    "# Build step forward feature selection\n",
    "sfs1 = sfs(lr,\n",
    "           k_features=10,\n",
    "           forward=True,\n",
    "           floating=False,\n",
    "           verbose=2,\n",
    "           scoring='accuracy',\n",
    "           cv=3)\n",
    "\n",
    "# Perform SFFS\n",
    "sfs1 = sfs1.fit(X_train, y_train)"
   ]
  },
  {
   "cell_type": "code",
   "execution_count": 117,
   "metadata": {
    "scrolled": true
   },
   "outputs": [
    {
     "name": "stdout",
     "output_type": "stream",
     "text": [
      "[0, 10, 12, 13, 14, 17, 18, 19, 21, 22]\n"
     ]
    }
   ],
   "source": [
    "# Features list that were selected\n",
    "feature_cols = list(sfs1.k_feature_idx_)\n",
    "print(feature_cols)"
   ]
  },
  {
   "cell_type": "code",
   "execution_count": 99,
   "metadata": {
    "scrolled": true
   },
   "outputs": [
    {
     "name": "stdout",
     "output_type": "stream",
     "text": [
      "<class 'pandas.core.frame.DataFrame'>\n",
      "RangeIndex: 65535 entries, 0 to 65534\n",
      "Data columns (total 24 columns):\n",
      " #   Column                          Non-Null Count  Dtype  \n",
      "---  ------                          --------------  -----  \n",
      " 0   is_Canceled                     65535 non-null  int64  \n",
      " 1   lead_time                       65535 non-null  int64  \n",
      " 2   arrival_date_year               65535 non-null  int64  \n",
      " 3   stays_in_weekend_nights         65535 non-null  int64  \n",
      " 4   stays_in_week_nights            65535 non-null  int64  \n",
      " 5   adults                          65535 non-null  int64  \n",
      " 6   children                        65535 non-null  int64  \n",
      " 7   babies                          65535 non-null  int64  \n",
      " 8   is_repeated_guest               65535 non-null  int64  \n",
      " 9   previous_cancellations          65535 non-null  int64  \n",
      " 10  previous_bookings_not_Canceled  65535 non-null  int64  \n",
      " 11  booking_changes                 65535 non-null  int64  \n",
      " 12  days_in_waiting_list            65535 non-null  int64  \n",
      " 13  adr                             65535 non-null  float64\n",
      " 14  required_car_parking_spaces     65535 non-null  int64  \n",
      " 15  total_of_special_requests       65535 non-null  int64  \n",
      " 16  arrival_date_qtr_dummy          65535 non-null  int64  \n",
      " 17  stays_in_week_nights_dummy      65535 non-null  int64  \n",
      " 18  country_dummy                   65535 non-null  int64  \n",
      " 19  reserved_room_type_dummy        65535 non-null  int64  \n",
      " 20  assigned_room_type_dummy        65535 non-null  int64  \n",
      " 21  agent_dummy                     65535 non-null  int64  \n",
      " 22  customer_type_dummy             65535 non-null  int64  \n",
      " 23  distribution_channel_dummy      65535 non-null  int64  \n",
      "dtypes: float64(1), int64(23)\n",
      "memory usage: 12.0 MB\n"
     ]
    }
   ],
   "source": [
    "final_df.info()"
   ]
  },
  {
   "cell_type": "code",
   "execution_count": 100,
   "metadata": {},
   "outputs": [
    {
     "name": "stdout",
     "output_type": "stream",
     "text": [
      "Testing accuracy on selected features: 0.784\n"
     ]
    }
   ],
   "source": [
    "# Build full logistic regression model with selected features using forward selection\n",
    "#Logistic regressiom\n",
    "from sklearn.linear_model import LogisticRegression\n",
    "logreg = LogisticRegression(solver='lbfgs', max_iter=10000)\n",
    "logreg.fit(X_train.iloc[:, feature_cols], y_train)\n",
    "y_pred = logreg.predict(X_test.iloc[:, feature_cols])\n",
    "print('Testing accuracy on selected features: %.3f' % accuracy_score(y_test, y_pred))"
   ]
  },
  {
   "cell_type": "code",
   "execution_count": 101,
   "metadata": {},
   "outputs": [
    {
     "name": "stdout",
     "output_type": "stream",
     "text": [
      "[[8556 1739]\n",
      " [2504 6862]]\n"
     ]
    }
   ],
   "source": [
    "from sklearn.metrics import confusion_matrix\n",
    "logmatx = confusion_matrix(y_test, y_pred)\n",
    "print(logmatx)"
   ]
  },
  {
   "cell_type": "code",
   "execution_count": 102,
   "metadata": {},
   "outputs": [
    {
     "data": {
      "text/plain": [
       "<matplotlib.axes._subplots.AxesSubplot at 0x1ccd9de4648>"
      ]
     },
     "execution_count": 102,
     "metadata": {},
     "output_type": "execute_result"
    },
    {
     "data": {
      "image/png": "[encoded data removed]",
      "text/plain": [
       "<Figure size 432x288 with 1 Axes>"
      ]
     },
     "metadata": {
      "needs_background": "light"
     },
     "output_type": "display_data"
    }
   ],
   "source": [
    "sns.heatmap(logmatx.T, annot=True, fmt='d', cbar=False,\n",
    "          xticklabels=['Pred No','Pred Yes'],\n",
    "          yticklabels=['Act No','Act Yes'] )"
   ]
  },
  {
   "cell_type": "code",
   "execution_count": 103,
   "metadata": {},
   "outputs": [
    {
     "name": "stdout",
     "output_type": "stream",
     "text": [
      "              precision    recall  f1-score   support\n",
      "\n",
      "           0       0.77      0.83      0.80     10295\n",
      "           1       0.80      0.73      0.76      9366\n",
      "\n",
      "    accuracy                           0.78     19661\n",
      "   macro avg       0.79      0.78      0.78     19661\n",
      "weighted avg       0.79      0.78      0.78     19661\n",
      "\n"
     ]
    }
   ],
   "source": [
    "from sklearn.metrics import classification_report\n",
    "print(classification_report(y_test, y_pred))"
   ]
  },
  {
   "cell_type": "code",
   "execution_count": 104,
   "metadata": {},
   "outputs": [
    {
     "data": {
      "image/png": "[encoded data removed]",
      "text/plain": [
       "<Figure size 432x288 with 1 Axes>"
      ]
     },
     "metadata": {
      "needs_background": "light"
     },
     "output_type": "display_data"
    }
   ],
   "source": [
    "from sklearn.metrics import roc_auc_score\n",
    "from sklearn.metrics import roc_curve\n",
    "logit_roc_auc = roc_auc_score(y_test, logreg.predict(X_test.iloc[:, feature_cols]))\n",
    "fpr, tpr, thresholds = roc_curve(y_test, logreg.predict_proba(X_test.iloc[:, feature_cols])[:,1])\n",
    "plt.figure()\n",
    "plt.plot(fpr, tpr, label='Logistic Regression (area = %0.2f)' % logit_roc_auc)\n",
    "plt.plot([0, 1], [0, 1],'r--')\n",
    "plt.xlim([0.0, 1.0])\n",
    "plt.ylim([0.0, 1.05])\n",
    "plt.xlabel('False Positive Rate')\n",
    "plt.ylabel('True Positive Rate')\n",
    "plt.title('Receiver operating characteristic')\n",
    "plt.legend(loc=\"lower right\")\n",
    "plt.savefig('Log_ROC')\n",
    "plt.show()"
   ]
  },
  {
   "cell_type": "code",
   "execution_count": 105,
   "metadata": {},
   "outputs": [
    {
     "name": "stdout",
     "output_type": "stream",
     "text": [
      "Training accuracy on selected features: 0.796\n",
      "Testing accuracy on selected features: 0.794\n"
     ]
    }
   ],
   "source": [
    "# Build Random Forest model with selected features using forward selection\n",
    "#Random Forest \n",
    "from sklearn.ensemble import RandomForestClassifier\n",
    "rf = RandomForestClassifier(n_estimators=1000, random_state=42, max_depth=4)\n",
    "rf.fit(X_train.iloc[:, feature_cols], y_train)\n",
    "\n",
    "y_train_pred = rf.predict(X_train.iloc[:, feature_cols])\n",
    "print('Training accuracy on selected features: %.3f' % accuracy_score(y_train, y_train_pred))\n",
    "\n",
    "y_test_pred = rf.predict(X_test.iloc[:, feature_cols])\n",
    "print('Testing accuracy on selected features: %.3f' % accuracy_score(y_test, y_test_pred))"
   ]
  },
  {
   "cell_type": "code",
   "execution_count": 106,
   "metadata": {},
   "outputs": [],
   "source": [
    "# Build Decision Tree model with selected features using forward selection\n",
    "#Decision tree\n",
    "from sklearn.tree import DecisionTreeClassifier\n",
    "desctree = DecisionTreeClassifier()\n",
    "desctree.fit(X_train.iloc[:, feature_cols], y_train)\n",
    "y_pred_desct = desctree.predict(X_test.iloc[:, feature_cols])"
   ]
  },
  {
   "cell_type": "code",
   "execution_count": 107,
   "metadata": {},
   "outputs": [
    {
     "name": "stdout",
     "output_type": "stream",
     "text": [
      "Mean Absolute Error: 0.170\n",
      "Mean Squared Error: 0.170\n",
      "Root Mean Squared Error: 0.413\n",
      "Testing accuracy on selected features: 0.830\n"
     ]
    }
   ],
   "source": [
    "print('Mean Absolute Error: %.3f' % metrics.mean_absolute_error(y_test, y_pred_desct))\n",
    "print('Mean Squared Error: %.3f' % metrics.mean_squared_error(y_test, y_pred_desct))\n",
    "print('Root Mean Squared Error: %.3f' %  np.sqrt(metrics.mean_squared_error(y_test, y_pred_desct)))\n",
    "print('Testing accuracy on selected features: %.3f' % accuracy_score(y_test, y_pred_desct))"
   ]
  },
  {
   "cell_type": "code",
   "execution_count": 108,
   "metadata": {
    "scrolled": true
   },
   "outputs": [],
   "source": [
    "# Build XGBoost Classifier model with selected features using forward selection\n",
    "#Xgbclassifier\n",
    "import xgboost as xgb\n",
    "from xgboost import XGBClassifier\n",
    "xgbc = xgb.XGBClassifier(objective='reg:logistic')\n",
    "xgbc.fit(X_train.iloc[:, feature_cols],y_train)\n",
    "y_pred_xgbc = xgbc.predict(X_test.iloc[:, feature_cols])"
   ]
  },
  {
   "cell_type": "code",
   "execution_count": 109,
   "metadata": {},
   "outputs": [
    {
     "name": "stdout",
     "output_type": "stream",
     "text": [
      "Mean Absolute Error: 0.148\n",
      "Mean Squared Error: 0.148\n",
      "Root Mean Squared Error: 0.384\n",
      "Testing accuracy on selected features: 0.852\n"
     ]
    }
   ],
   "source": [
    "print('Mean Absolute Error: %.3f' % metrics.mean_absolute_error(y_test, y_pred_xgbc))\n",
    "print('Mean Squared Error: %.3f' % metrics.mean_squared_error(y_test, y_pred_xgbc))\n",
    "print('Root Mean Squared Error: %.3f' %  np.sqrt(metrics.mean_squared_error(y_test, y_pred_xgbc)))\n",
    "print('Testing accuracy on selected features: %.3f' % accuracy_score(y_test, y_pred_xgbc))"
   ]
  },
  {
   "cell_type": "code",
   "execution_count": 110,
   "metadata": {},
   "outputs": [],
   "source": [
    "# Build Naive Bayes model with selected features using forward selection\n",
    "from sklearn.naive_bayes import GaussianNB\n",
    "gnb = GaussianNB()\n",
    "gnb.fit(X_train.iloc[:, feature_cols],y_train)\n",
    "y_pred_gnb = gnb.predict(X_test.iloc[:, feature_cols])"
   ]
  },
  {
   "cell_type": "code",
   "execution_count": 111,
   "metadata": {},
   "outputs": [
    {
     "name": "stdout",
     "output_type": "stream",
     "text": [
      "Number of mislabeled points out of a total 19661 points : 8312\n"
     ]
    }
   ],
   "source": [
    "print(\"Number of mislabeled points out of a total %d points : %d\" % (X_test.iloc[:, feature_cols].shape[0], (y_test != y_pred_gnb).sum()))"
   ]
  },
  {
   "cell_type": "code",
   "execution_count": 112,
   "metadata": {},
   "outputs": [
    {
     "name": "stdout",
     "output_type": "stream",
     "text": [
      "Gaussian Naive Bayes model accuracy(in %): 57.72341183052744\n"
     ]
    }
   ],
   "source": [
    "print(\"Gaussian Naive Bayes model accuracy(in %):\", metrics.accuracy_score(y_test, y_pred_gnb)*100)"
   ]
  },
  {
   "cell_type": "code",
   "execution_count": 113,
   "metadata": {
    "scrolled": true
   },
   "outputs": [
    {
     "name": "stderr",
     "output_type": "stream",
     "text": [
      "[Parallel(n_jobs=1)]: Using backend SequentialBackend with 1 concurrent workers.\n",
      "[Parallel(n_jobs=1)]: Done   1 out of   1 | elapsed:   20.7s remaining:    0.0s\n",
      "[Parallel(n_jobs=1)]: Done  23 out of  23 | elapsed:  5.4min finished\n",
      "\n",
      "[2020-11-23 11:07:10] Features: 22/20 -- score: 0.794436849752235[Parallel(n_jobs=1)]: Using backend SequentialBackend with 1 concurrent workers.\n",
      "[Parallel(n_jobs=1)]: Done   1 out of   1 | elapsed:   15.7s remaining:    0.0s\n",
      "[Parallel(n_jobs=1)]: Done  22 out of  22 | elapsed:  4.3min finished\n",
      "\n",
      "[2020-11-23 11:11:26] Features: 21/20 -- score: 0.7952216265358261[Parallel(n_jobs=1)]: Using backend SequentialBackend with 1 concurrent workers.\n",
      "[Parallel(n_jobs=1)]: Done   1 out of   1 | elapsed:   14.2s remaining:    0.0s\n",
      "[Parallel(n_jobs=1)]: Done  21 out of  21 | elapsed:  3.7min finished\n",
      "\n",
      "[2020-11-23 11:15:07] Features: 20/20 -- score: 0.7947202622368131"
     ]
    }
   ],
   "source": [
    "#backward selection\n",
    "# Build logistic rregression to use in feature selection\n",
    "#backward selection\n",
    "from mlxtend.feature_selection import SequentialFeatureSelector as sfs\n",
    "lr_back = LogisticRegression(max_iter=10000)\n",
    "\n",
    "# Build step forward feature selection\n",
    "sfs2 = sfs(lr_back,\n",
    "           k_features=20,\n",
    "           forward=False,\n",
    "           floating=False,\n",
    "           verbose=2,\n",
    "           scoring='accuracy',\n",
    "           cv=3)\n",
    "\n",
    "# Perform SFFS\n",
    "sfs2 = sfs2.fit(X_train, y_train)"
   ]
  },
  {
   "cell_type": "code",
   "execution_count": 116,
   "metadata": {},
   "outputs": [
    {
     "name": "stdout",
     "output_type": "stream",
     "text": [
      "[0, 1, 2, 3, 4, 6, 7, 8, 9, 10, 12, 13, 14, 15, 16, 17, 18, 19, 21, 22]\n"
     ]
    }
   ],
   "source": [
    "# Features list that were selected\n",
    "feature_cols_back = list(sfs2.k_feature_idx_)\n",
    "print(feature_cols_back)"
   ]
  },
  {
   "cell_type": "code",
   "execution_count": 118,
   "metadata": {},
   "outputs": [
    {
     "name": "stdout",
     "output_type": "stream",
     "text": [
      "Testing accuracy on selected features: 0.792\n"
     ]
    }
   ],
   "source": [
    "# Build full logistic regression model with selected features using forward selection\n",
    "#Logistic regressiom\n",
    "from sklearn.linear_model import LogisticRegression\n",
    "logreg = LogisticRegression(solver='lbfgs', max_iter=10000)\n",
    "logreg.fit(X_train.iloc[:, feature_cols_back], y_train)\n",
    "y_pred = logreg.predict(X_test.iloc[:, feature_cols_back])\n",
    "print('Testing accuracy on selected features: %.3f' % accuracy_score(y_test, y_pred))"
   ]
  },
  {
   "cell_type": "code",
   "execution_count": 119,
   "metadata": {},
   "outputs": [
    {
     "name": "stdout",
     "output_type": "stream",
     "text": [
      "[[8691 1604]\n",
      " [2481 6885]]\n"
     ]
    }
   ],
   "source": [
    "from sklearn.metrics import confusion_matrix\n",
    "logmatx = confusion_matrix(y_test, y_pred)\n",
    "print(logmatx)"
   ]
  },
  {
   "cell_type": "code",
   "execution_count": 120,
   "metadata": {
    "scrolled": true
   },
   "outputs": [
    {
     "data": {
      "text/plain": [
       "<matplotlib.axes._subplots.AxesSubplot at 0x1ccdd7df7c8>"
      ]
     },
     "execution_count": 120,
     "metadata": {},
     "output_type": "execute_result"
    },
    {
     "data": {
      "image/png": "[encoded data removed]",
      "text/plain": [
       "<Figure size 432x288 with 1 Axes>"
      ]
     },
     "metadata": {
      "needs_background": "light"
     },
     "output_type": "display_data"
    }
   ],
   "source": [
    "sns.heatmap(logmatx.T, annot=True, fmt='d', cbar=False,\n",
    "          xticklabels=['Pred No','Pred Yes'],\n",
    "          yticklabels=['Act No','Act Yes'] )"
   ]
  },
  {
   "cell_type": "code",
   "execution_count": 121,
   "metadata": {
    "scrolled": true
   },
   "outputs": [
    {
     "name": "stdout",
     "output_type": "stream",
     "text": [
      "              precision    recall  f1-score   support\n",
      "\n",
      "           0       0.78      0.84      0.81     10295\n",
      "           1       0.81      0.74      0.77      9366\n",
      "\n",
      "    accuracy                           0.79     19661\n",
      "   macro avg       0.79      0.79      0.79     19661\n",
      "weighted avg       0.79      0.79      0.79     19661\n",
      "\n"
     ]
    }
   ],
   "source": [
    "from sklearn.metrics import classification_report\n",
    "print(classification_report(y_test, y_pred))"
   ]
  },
  {
   "cell_type": "code",
   "execution_count": 123,
   "metadata": {
    "scrolled": true
   },
   "outputs": [
    {
     "data": {
      "image/png": "[encoded data removed]",
      "text/plain": [
       "<Figure size 432x288 with 1 Axes>"
      ]
     },
     "metadata": {
      "needs_background": "light"
     },
     "output_type": "display_data"
    }
   ],
   "source": [
    "from sklearn.metrics import roc_auc_score\n",
    "from sklearn.metrics import roc_curve\n",
    "logit_roc_auc = roc_auc_score(y_test, logreg.predict(X_test.iloc[:, feature_cols_back]))\n",
    "fpr, tpr, thresholds = roc_curve(y_test, logreg.predict_proba(X_test.iloc[:, feature_cols_back])[:,1])\n",
    "plt.figure()\n",
    "plt.plot(fpr, tpr, label='Logistic Regression (area = %0.2f)' % logit_roc_auc)\n",
    "plt.plot([0, 1], [0, 1],'r--')\n",
    "plt.xlim([0.0, 1.0])\n",
    "plt.ylim([0.0, 1.05])\n",
    "plt.xlabel('False Positive Rate')\n",
    "plt.ylabel('True Positive Rate')\n",
    "plt.title('Receiver operating characteristic')\n",
    "plt.legend(loc=\"lower right\")\n",
    "plt.savefig('Log_ROC')\n",
    "plt.show()"
   ]
  },
  {
   "cell_type": "code",
   "execution_count": 125,
   "metadata": {},
   "outputs": [
    {
     "name": "stdout",
     "output_type": "stream",
     "text": [
      "Training accuracy on selected features: 0.829\n",
      "Testing accuracy on selected features: 0.828\n"
     ]
    }
   ],
   "source": [
    "# Build Random Forest model with selected features using backward selection\n",
    "#Random Forest \n",
    "from sklearn.ensemble import RandomForestClassifier\n",
    "rf = RandomForestClassifier(n_estimators=1000, random_state=42, max_depth=4)\n",
    "rf.fit(X_train.iloc[:, feature_cols_back], y_train)\n",
    "\n",
    "y_train_pred = rf.predict(X_train.iloc[:, feature_cols_back])\n",
    "print('Training accuracy on selected features: %.3f' % accuracy_score(y_train, y_train_pred))\n",
    "\n",
    "y_test_pred = rf.predict(X_test.iloc[:, feature_cols_back])\n",
    "print('Testing accuracy on selected features: %.3f' % accuracy_score(y_test, y_test_pred))"
   ]
  },
  {
   "cell_type": "code",
   "execution_count": 126,
   "metadata": {},
   "outputs": [],
   "source": [
    "# Build Decision Tree model with selected features using backward selection\n",
    "#Decision tree\n",
    "from sklearn.tree import DecisionTreeClassifier\n",
    "desctree = DecisionTreeClassifier()\n",
    "desctree.fit(X_train.iloc[:, feature_cols_back], y_train)\n",
    "y_pred_desct = desctree.predict(X_test.iloc[:, feature_cols_back])"
   ]
  },
  {
   "cell_type": "code",
   "execution_count": 127,
   "metadata": {
    "scrolled": true
   },
   "outputs": [
    {
     "name": "stdout",
     "output_type": "stream",
     "text": [
      "Mean Absolute Error: 0.147\n",
      "Mean Squared Error: 0.147\n",
      "Root Mean Squared Error: 0.383\n",
      "Testing accuracy on selected features: 0.853\n"
     ]
    }
   ],
   "source": [
    "print('Mean Absolute Error: %.3f' % metrics.mean_absolute_error(y_test, y_pred_desct))\n",
    "print('Mean Squared Error: %.3f' % metrics.mean_squared_error(y_test, y_pred_desct))\n",
    "print('Root Mean Squared Error: %.3f' %  np.sqrt(metrics.mean_squared_error(y_test, y_pred_desct)))\n",
    "print('Testing accuracy on selected features: %.3f' % accuracy_score(y_test, y_pred_desct))"
   ]
  },
  {
   "cell_type": "code",
   "execution_count": 128,
   "metadata": {},
   "outputs": [],
   "source": [
    "# Build XGBoost Classifier model with selected features using backward selection\n",
    "#Xgbclassifier\n",
    "import xgboost as xgb\n",
    "from xgboost import XGBClassifier\n",
    "xgbc = xgb.XGBClassifier(objective='reg:logistic')\n",
    "xgbc.fit(X_train.iloc[:, feature_cols_back],y_train)\n",
    "y_pred_xgbc = xgbc.predict(X_test.iloc[:, feature_cols_back])"
   ]
  },
  {
   "cell_type": "code",
   "execution_count": 129,
   "metadata": {
    "scrolled": true
   },
   "outputs": [
    {
     "name": "stdout",
     "output_type": "stream",
     "text": [
      "Mean Absolute Error: 0.118\n",
      "Mean Squared Error: 0.118\n",
      "Root Mean Squared Error: 0.344\n",
      "Testing accuracy on selected features: 0.882\n"
     ]
    }
   ],
   "source": [
    "print('Mean Absolute Error: %.3f' % metrics.mean_absolute_error(y_test, y_pred_xgbc))\n",
    "print('Mean Squared Error: %.3f' % metrics.mean_squared_error(y_test, y_pred_xgbc))\n",
    "print('Root Mean Squared Error: %.3f' %  np.sqrt(metrics.mean_squared_error(y_test, y_pred_xgbc)))\n",
    "print('Testing accuracy on selected features: %.3f' % accuracy_score(y_test, y_pred_xgbc))"
   ]
  },
  {
   "cell_type": "code",
   "execution_count": 130,
   "metadata": {},
   "outputs": [],
   "source": [
    "# Build Naive Bayes model with selected features using backward selection\n",
    "from sklearn.naive_bayes import GaussianNB\n",
    "gnb = GaussianNB()\n",
    "gnb.fit(X_train.iloc[:, feature_cols_back],y_train)\n",
    "y_pred_gnb = gnb.predict(X_test.iloc[:, feature_cols_back])"
   ]
  },
  {
   "cell_type": "code",
   "execution_count": 131,
   "metadata": {},
   "outputs": [
    {
     "name": "stdout",
     "output_type": "stream",
     "text": [
      "Number of mislabeled points out of a total 19661 points : 8832\n"
     ]
    }
   ],
   "source": [
    "print(\"Number of mislabeled points out of a total %d points : %d\" % (X_test.iloc[:, feature_cols_back].shape[0], (y_test != y_pred_gnb).sum()))"
   ]
  },
  {
   "cell_type": "code",
   "execution_count": 132,
   "metadata": {},
   "outputs": [
    {
     "name": "stdout",
     "output_type": "stream",
     "text": [
      "Gaussian Naive Bayes model accuracy(in %): 55.07858196429479\n"
     ]
    }
   ],
   "source": [
    "print(\"Gaussian Naive Bayes model accuracy(in %):\", metrics.accuracy_score(y_test, y_pred_gnb)*100)"
   ]
  },
  {
   "cell_type": "code",
   "execution_count": 134,
   "metadata": {},
   "outputs": [
    {
     "data": {
      "text/html": [
       "<div>\n",
       "<style scoped>\n",
       "    .dataframe tbody tr th:only-of-type {\n",
       "        vertical-align: middle;\n",
       "    }\n",
       "\n",
       "    .dataframe tbody tr th {\n",
       "        vertical-align: top;\n",
       "    }\n",
       "\n",
       "    .dataframe thead th {\n",
       "        text-align: right;\n",
       "    }\n",
       "</style>\n",
       "<table border=\"1\" class=\"dataframe\">\n",
       "  <thead>\n",
       "    <tr style=\"text-align: right;\">\n",
       "      <th></th>\n",
       "      <th>is_Canceled</th>\n",
       "      <th>lead_time</th>\n",
       "      <th>arrival_date_year</th>\n",
       "      <th>stays_in_weekend_nights</th>\n",
       "      <th>stays_in_week_nights</th>\n",
       "      <th>adults</th>\n",
       "      <th>children</th>\n",
       "      <th>babies</th>\n",
       "      <th>is_repeated_guest</th>\n",
       "      <th>previous_cancellations</th>\n",
       "      <th>...</th>\n",
       "      <th>required_car_parking_spaces</th>\n",
       "      <th>total_of_special_requests</th>\n",
       "      <th>arrival_date_qtr_dummy</th>\n",
       "      <th>stays_in_week_nights_dummy</th>\n",
       "      <th>country_dummy</th>\n",
       "      <th>reserved_room_type_dummy</th>\n",
       "      <th>assigned_room_type_dummy</th>\n",
       "      <th>agent_dummy</th>\n",
       "      <th>customer_type_dummy</th>\n",
       "      <th>distribution_channel_dummy</th>\n",
       "    </tr>\n",
       "  </thead>\n",
       "  <tbody>\n",
       "    <tr>\n",
       "      <th>0</th>\n",
       "      <td>0</td>\n",
       "      <td>1</td>\n",
       "      <td>2015</td>\n",
       "      <td>0</td>\n",
       "      <td>1</td>\n",
       "      <td>1</td>\n",
       "      <td>0</td>\n",
       "      <td>0</td>\n",
       "      <td>0</td>\n",
       "      <td>0</td>\n",
       "      <td>...</td>\n",
       "      <td>0</td>\n",
       "      <td>1</td>\n",
       "      <td>3</td>\n",
       "      <td>0</td>\n",
       "      <td>0</td>\n",
       "      <td>1</td>\n",
       "      <td>0</td>\n",
       "      <td>0</td>\n",
       "      <td>0</td>\n",
       "      <td>1</td>\n",
       "    </tr>\n",
       "    <tr>\n",
       "      <th>1</th>\n",
       "      <td>0</td>\n",
       "      <td>8</td>\n",
       "      <td>2015</td>\n",
       "      <td>0</td>\n",
       "      <td>2</td>\n",
       "      <td>1</td>\n",
       "      <td>0</td>\n",
       "      <td>0</td>\n",
       "      <td>0</td>\n",
       "      <td>0</td>\n",
       "      <td>...</td>\n",
       "      <td>0</td>\n",
       "      <td>0</td>\n",
       "      <td>3</td>\n",
       "      <td>1</td>\n",
       "      <td>1</td>\n",
       "      <td>1</td>\n",
       "      <td>0</td>\n",
       "      <td>0</td>\n",
       "      <td>1</td>\n",
       "      <td>1</td>\n",
       "    </tr>\n",
       "    <tr>\n",
       "      <th>2</th>\n",
       "      <td>0</td>\n",
       "      <td>0</td>\n",
       "      <td>2015</td>\n",
       "      <td>0</td>\n",
       "      <td>1</td>\n",
       "      <td>2</td>\n",
       "      <td>0</td>\n",
       "      <td>0</td>\n",
       "      <td>0</td>\n",
       "      <td>0</td>\n",
       "      <td>...</td>\n",
       "      <td>0</td>\n",
       "      <td>0</td>\n",
       "      <td>3</td>\n",
       "      <td>0</td>\n",
       "      <td>1</td>\n",
       "      <td>1</td>\n",
       "      <td>0</td>\n",
       "      <td>0</td>\n",
       "      <td>1</td>\n",
       "      <td>0</td>\n",
       "    </tr>\n",
       "    <tr>\n",
       "      <th>3</th>\n",
       "      <td>0</td>\n",
       "      <td>1</td>\n",
       "      <td>2015</td>\n",
       "      <td>0</td>\n",
       "      <td>1</td>\n",
       "      <td>1</td>\n",
       "      <td>0</td>\n",
       "      <td>0</td>\n",
       "      <td>0</td>\n",
       "      <td>0</td>\n",
       "      <td>...</td>\n",
       "      <td>0</td>\n",
       "      <td>1</td>\n",
       "      <td>3</td>\n",
       "      <td>0</td>\n",
       "      <td>1</td>\n",
       "      <td>1</td>\n",
       "      <td>0</td>\n",
       "      <td>0</td>\n",
       "      <td>1</td>\n",
       "      <td>0</td>\n",
       "    </tr>\n",
       "    <tr>\n",
       "      <th>4</th>\n",
       "      <td>0</td>\n",
       "      <td>1</td>\n",
       "      <td>2015</td>\n",
       "      <td>0</td>\n",
       "      <td>1</td>\n",
       "      <td>1</td>\n",
       "      <td>0</td>\n",
       "      <td>0</td>\n",
       "      <td>0</td>\n",
       "      <td>0</td>\n",
       "      <td>...</td>\n",
       "      <td>0</td>\n",
       "      <td>1</td>\n",
       "      <td>3</td>\n",
       "      <td>0</td>\n",
       "      <td>1</td>\n",
       "      <td>1</td>\n",
       "      <td>1</td>\n",
       "      <td>0</td>\n",
       "      <td>1</td>\n",
       "      <td>0</td>\n",
       "    </tr>\n",
       "    <tr>\n",
       "      <th>...</th>\n",
       "      <td>...</td>\n",
       "      <td>...</td>\n",
       "      <td>...</td>\n",
       "      <td>...</td>\n",
       "      <td>...</td>\n",
       "      <td>...</td>\n",
       "      <td>...</td>\n",
       "      <td>...</td>\n",
       "      <td>...</td>\n",
       "      <td>...</td>\n",
       "      <td>...</td>\n",
       "      <td>...</td>\n",
       "      <td>...</td>\n",
       "      <td>...</td>\n",
       "      <td>...</td>\n",
       "      <td>...</td>\n",
       "      <td>...</td>\n",
       "      <td>...</td>\n",
       "      <td>...</td>\n",
       "      <td>...</td>\n",
       "      <td>...</td>\n",
       "    </tr>\n",
       "    <tr>\n",
       "      <th>65530</th>\n",
       "      <td>0</td>\n",
       "      <td>186</td>\n",
       "      <td>2017</td>\n",
       "      <td>2</td>\n",
       "      <td>1</td>\n",
       "      <td>2</td>\n",
       "      <td>2</td>\n",
       "      <td>0</td>\n",
       "      <td>0</td>\n",
       "      <td>0</td>\n",
       "      <td>...</td>\n",
       "      <td>0</td>\n",
       "      <td>0</td>\n",
       "      <td>2</td>\n",
       "      <td>0</td>\n",
       "      <td>0</td>\n",
       "      <td>0</td>\n",
       "      <td>0</td>\n",
       "      <td>0</td>\n",
       "      <td>1</td>\n",
       "      <td>1</td>\n",
       "    </tr>\n",
       "    <tr>\n",
       "      <th>65531</th>\n",
       "      <td>0</td>\n",
       "      <td>186</td>\n",
       "      <td>2017</td>\n",
       "      <td>2</td>\n",
       "      <td>1</td>\n",
       "      <td>2</td>\n",
       "      <td>2</td>\n",
       "      <td>0</td>\n",
       "      <td>0</td>\n",
       "      <td>0</td>\n",
       "      <td>...</td>\n",
       "      <td>0</td>\n",
       "      <td>1</td>\n",
       "      <td>2</td>\n",
       "      <td>0</td>\n",
       "      <td>0</td>\n",
       "      <td>0</td>\n",
       "      <td>0</td>\n",
       "      <td>0</td>\n",
       "      <td>1</td>\n",
       "      <td>1</td>\n",
       "    </tr>\n",
       "    <tr>\n",
       "      <th>65532</th>\n",
       "      <td>0</td>\n",
       "      <td>138</td>\n",
       "      <td>2017</td>\n",
       "      <td>2</td>\n",
       "      <td>6</td>\n",
       "      <td>2</td>\n",
       "      <td>0</td>\n",
       "      <td>0</td>\n",
       "      <td>0</td>\n",
       "      <td>0</td>\n",
       "      <td>...</td>\n",
       "      <td>0</td>\n",
       "      <td>0</td>\n",
       "      <td>2</td>\n",
       "      <td>0</td>\n",
       "      <td>0</td>\n",
       "      <td>1</td>\n",
       "      <td>1</td>\n",
       "      <td>0</td>\n",
       "      <td>1</td>\n",
       "      <td>0</td>\n",
       "    </tr>\n",
       "    <tr>\n",
       "      <th>65533</th>\n",
       "      <td>0</td>\n",
       "      <td>12</td>\n",
       "      <td>2017</td>\n",
       "      <td>0</td>\n",
       "      <td>1</td>\n",
       "      <td>1</td>\n",
       "      <td>0</td>\n",
       "      <td>0</td>\n",
       "      <td>0</td>\n",
       "      <td>0</td>\n",
       "      <td>...</td>\n",
       "      <td>0</td>\n",
       "      <td>0</td>\n",
       "      <td>2</td>\n",
       "      <td>0</td>\n",
       "      <td>0</td>\n",
       "      <td>1</td>\n",
       "      <td>1</td>\n",
       "      <td>0</td>\n",
       "      <td>1</td>\n",
       "      <td>1</td>\n",
       "    </tr>\n",
       "    <tr>\n",
       "      <th>65534</th>\n",
       "      <td>0</td>\n",
       "      <td>155</td>\n",
       "      <td>2017</td>\n",
       "      <td>2</td>\n",
       "      <td>2</td>\n",
       "      <td>2</td>\n",
       "      <td>1</td>\n",
       "      <td>0</td>\n",
       "      <td>0</td>\n",
       "      <td>0</td>\n",
       "      <td>...</td>\n",
       "      <td>0</td>\n",
       "      <td>0</td>\n",
       "      <td>2</td>\n",
       "      <td>1</td>\n",
       "      <td>0</td>\n",
       "      <td>1</td>\n",
       "      <td>1</td>\n",
       "      <td>0</td>\n",
       "      <td>1</td>\n",
       "      <td>0</td>\n",
       "    </tr>\n",
       "  </tbody>\n",
       "</table>\n",
       "<p>65535 rows × 24 columns</p>\n",
       "</div>"
      ],
      "text/plain": [
       "       is_Canceled  lead_time  arrival_date_year  stays_in_weekend_nights  \\\n",
       "0                0          1               2015                        0   \n",
       "1                0          8               2015                        0   \n",
       "2                0          0               2015                        0   \n",
       "3                0          1               2015                        0   \n",
       "4                0          1               2015                        0   \n",
       "...            ...        ...                ...                      ...   \n",
       "65530            0        186               2017                        2   \n",
       "65531            0        186               2017                        2   \n",
       "65532            0        138               2017                        2   \n",
       "65533            0         12               2017                        0   \n",
       "65534            0        155               2017                        2   \n",
       "\n",
       "       stays_in_week_nights  adults  children  babies  is_repeated_guest  \\\n",
       "0                         1       1         0       0                  0   \n",
       "1                         2       1         0       0                  0   \n",
       "2                         1       2         0       0                  0   \n",
       "3                         1       1         0       0                  0   \n",
       "4                         1       1         0       0                  0   \n",
       "...                     ...     ...       ...     ...                ...   \n",
       "65530                     1       2         2       0                  0   \n",
       "65531                     1       2         2       0                  0   \n",
       "65532                     6       2         0       0                  0   \n",
       "65533                     1       1         0       0                  0   \n",
       "65534                     2       2         1       0                  0   \n",
       "\n",
       "       previous_cancellations  ...  required_car_parking_spaces  \\\n",
       "0                           0  ...                            0   \n",
       "1                           0  ...                            0   \n",
       "2                           0  ...                            0   \n",
       "3                           0  ...                            0   \n",
       "4                           0  ...                            0   \n",
       "...                       ...  ...                          ...   \n",
       "65530                       0  ...                            0   \n",
       "65531                       0  ...                            0   \n",
       "65532                       0  ...                            0   \n",
       "65533                       0  ...                            0   \n",
       "65534                       0  ...                            0   \n",
       "\n",
       "       total_of_special_requests  arrival_date_qtr_dummy  \\\n",
       "0                              1                       3   \n",
       "1                              0                       3   \n",
       "2                              0                       3   \n",
       "3                              1                       3   \n",
       "4                              1                       3   \n",
       "...                          ...                     ...   \n",
       "65530                          0                       2   \n",
       "65531                          1                       2   \n",
       "65532                          0                       2   \n",
       "65533                          0                       2   \n",
       "65534                          0                       2   \n",
       "\n",
       "       stays_in_week_nights_dummy  country_dummy  reserved_room_type_dummy  \\\n",
       "0                               0              0                         1   \n",
       "1                               1              1                         1   \n",
       "2                               0              1                         1   \n",
       "3                               0              1                         1   \n",
       "4                               0              1                         1   \n",
       "...                           ...            ...                       ...   \n",
       "65530                           0              0                         0   \n",
       "65531                           0              0                         0   \n",
       "65532                           0              0                         1   \n",
       "65533                           0              0                         1   \n",
       "65534                           1              0                         1   \n",
       "\n",
       "       assigned_room_type_dummy  agent_dummy  customer_type_dummy  \\\n",
       "0                             0            0                    0   \n",
       "1                             0            0                    1   \n",
       "2                             0            0                    1   \n",
       "3                             0            0                    1   \n",
       "4                             1            0                    1   \n",
       "...                         ...          ...                  ...   \n",
       "65530                         0            0                    1   \n",
       "65531                         0            0                    1   \n",
       "65532                         1            0                    1   \n",
       "65533                         1            0                    1   \n",
       "65534                         1            0                    1   \n",
       "\n",
       "       distribution_channel_dummy  \n",
       "0                               1  \n",
       "1                               1  \n",
       "2                               0  \n",
       "3                               0  \n",
       "4                               0  \n",
       "...                           ...  \n",
       "65530                           1  \n",
       "65531                           1  \n",
       "65532                           0  \n",
       "65533                           1  \n",
       "65534                           0  \n",
       "\n",
       "[65535 rows x 24 columns]"
      ]
     },
     "execution_count": 134,
     "metadata": {},
     "output_type": "execute_result"
    }
   ],
   "source": [
    "final_df"
   ]
  },
  {
   "cell_type": "code",
   "execution_count": 143,
   "metadata": {},
   "outputs": [],
   "source": [
    "#Lasso-Feature selection\n",
    "names=final_df.columns.tolist()\n",
    "names.remove('is_Canceled')"
   ]
  },
  {
   "cell_type": "code",
   "execution_count": 144,
   "metadata": {},
   "outputs": [],
   "source": [
    "# Create a function called lasso,\n",
    "def lasso(alphas):\n",
    "    # Create an empty data frame\n",
    "    dfs = pd.DataFrame()\n",
    "    \n",
    "    # Create a column of feature names\n",
    "    dfs['Feature Name'] = names\n",
    "    \n",
    "    # For each alpha value in the list of alpha values,\n",
    "    for alpha in alphas:\n",
    "        # Create a lasso regression with that alpha value,\n",
    "        #lasso = Lasso(alpha=alpha)---this is using OLS model\n",
    "        lasso = linear_model.Lasso(alpha=alpha)\n",
    "        \n",
    "        # Fit the lasso regression\n",
    "        lasso.fit(X,y)\n",
    "        \n",
    "        # Create a column name for that alpha value\n",
    "        column_name = 'Alpha = %f' % alpha\n",
    "\n",
    "        # Create a column of coefficient values\n",
    "        dfs[column_name] = lasso.coef_\n",
    "        \n",
    "    # Return the datafram    \n",
    "    return dfs"
   ]
  },
  {
   "cell_type": "code",
   "execution_count": 145,
   "metadata": {},
   "outputs": [],
   "source": [
    "# Run the function called, Lasso\n",
    "out=lasso([.001, .005, 0.01])"
   ]
  },
  {
   "cell_type": "code",
   "execution_count": 146,
   "metadata": {},
   "outputs": [],
   "source": [
    "out_lasso= out[out['Alpha = 0.010000']!= 0]"
   ]
  },
  {
   "cell_type": "code",
   "execution_count": 147,
   "metadata": {},
   "outputs": [],
   "source": [
    "df1=out_lasso['Feature Name']"
   ]
  },
  {
   "cell_type": "code",
   "execution_count": 148,
   "metadata": {},
   "outputs": [
    {
     "data": {
      "text/plain": [
       "0                          lead_time\n",
       "1                  arrival_date_year\n",
       "2            stays_in_weekend_nights\n",
       "3               stays_in_week_nights\n",
       "8             previous_cancellations\n",
       "9     previous_bookings_not_Canceled\n",
       "10                   booking_changes\n",
       "11              days_in_waiting_list\n",
       "12                               adr\n",
       "14         total_of_special_requests\n",
       "15            arrival_date_qtr_dummy\n",
       "17                     country_dummy\n",
       "19          assigned_room_type_dummy\n",
       "21               customer_type_dummy\n",
       "22        distribution_channel_dummy\n",
       "Name: Feature Name, dtype: object"
      ]
     },
     "execution_count": 148,
     "metadata": {},
     "output_type": "execute_result"
    }
   ],
   "source": [
    "# Selecting only the features identified by Lasso \n",
    "df1"
   ]
  },
  {
   "cell_type": "code",
   "execution_count": 149,
   "metadata": {},
   "outputs": [],
   "source": [
    "X_train_lasso= X_train.filter(['lead_time','arrival_date_year','stays_in_weekend_nights','stays_in_week_nights','previous_cancellations','previous_bookings_not_Canceled','booking_changes','days_in_waiting_list','adr','total_of_special_requests','arrival_date_qtr_dummy','country_dummy','assigned_room_type_dummy','customer_type_dummy','distribution_channel_dummy'])"
   ]
  },
  {
   "cell_type": "code",
   "execution_count": 150,
   "metadata": {},
   "outputs": [],
   "source": [
    "X_test_lasso= X_test.filter(['lead_time','arrival_date_year','stays_in_weekend_nights','stays_in_week_nights','previous_cancellations','previous_bookings_not_Canceled','booking_changes','days_in_waiting_list','adr','total_of_special_requests','arrival_date_qtr_dummy','country_dummy','assigned_room_type_dummy','customer_type_dummy','distribution_channel_dummy'])"
   ]
  },
  {
   "cell_type": "code",
   "execution_count": 151,
   "metadata": {},
   "outputs": [
    {
     "name": "stdout",
     "output_type": "stream",
     "text": [
      "Testing accuracy on selected features: 0.781\n"
     ]
    }
   ],
   "source": [
    "# Build full logistic regression model with selected features using Lasso selection\n",
    "#Logistic regressiom\n",
    "logreg_2 = LogisticRegression(max_iter=10000)\n",
    "logreg_2.fit(X_train_lasso, y_train)\n",
    "y_pred_2 = logreg_2.predict(X_test_lasso)\n",
    "print('Testing accuracy on selected features: %.3f' % accuracy_score(y_test, y_pred_2))"
   ]
  },
  {
   "cell_type": "code",
   "execution_count": 152,
   "metadata": {},
   "outputs": [
    {
     "name": "stdout",
     "output_type": "stream",
     "text": [
      "Training accuracy on selected features: 0.826\n",
      "Testing accuracy on selected features: 0.825\n"
     ]
    }
   ],
   "source": [
    "# Build Random Forest model with selected features using backward selection\n",
    "#Random Forest \n",
    "from sklearn.ensemble import RandomForestClassifier\n",
    "rf = RandomForestClassifier(n_estimators=1000, random_state=42, max_depth=4)\n",
    "rf.fit(X_train_lasso, y_train)\n",
    "\n",
    "y_train_pred = rf.predict(X_train_lasso)\n",
    "print('Training accuracy on selected features: %.3f' % accuracy_score(y_train, y_train_pred))\n",
    "\n",
    "y_test_pred = rf.predict(X_test_lasso)\n",
    "print('Testing accuracy on selected features: %.3f' % accuracy_score(y_test, y_test_pred))"
   ]
  },
  {
   "cell_type": "code",
   "execution_count": 154,
   "metadata": {},
   "outputs": [],
   "source": [
    "# Build Decision Tree model with selected features using backward selection\n",
    "#Decision tree\n",
    "from sklearn.tree import DecisionTreeClassifier\n",
    "desctree = DecisionTreeClassifier()\n",
    "desctree.fit(X_train_lasso, y_train)\n",
    "y_pred_desct = desctree.predict(X_test_lasso)"
   ]
  },
  {
   "cell_type": "code",
   "execution_count": 155,
   "metadata": {},
   "outputs": [
    {
     "name": "stdout",
     "output_type": "stream",
     "text": [
      "Mean Absolute Error: 0.151\n",
      "Mean Squared Error: 0.151\n",
      "Root Mean Squared Error: 0.389\n",
      "Testing accuracy on selected features: 0.849\n"
     ]
    }
   ],
   "source": [
    "print('Mean Absolute Error: %.3f' % metrics.mean_absolute_error(y_test, y_pred_desct))\n",
    "print('Mean Squared Error: %.3f' % metrics.mean_squared_error(y_test, y_pred_desct))\n",
    "print('Root Mean Squared Error: %.3f' %  np.sqrt(metrics.mean_squared_error(y_test, y_pred_desct)))\n",
    "print('Testing accuracy on selected features: %.3f' % accuracy_score(y_test, y_pred_desct))"
   ]
  },
  {
   "cell_type": "code",
   "execution_count": 156,
   "metadata": {},
   "outputs": [],
   "source": [
    "# Build XGBoost Classifier model with selected features using backward selection\n",
    "#Xgbclassifier\n",
    "import xgboost as xgb\n",
    "from xgboost import XGBClassifier\n",
    "xgbc = xgb.XGBClassifier(objective='reg:logistic')\n",
    "xgbc.fit(X_train_lasso,y_train)\n",
    "y_pred_xgbc = xgbc.predict(X_test_lasso)"
   ]
  },
  {
   "cell_type": "code",
   "execution_count": 158,
   "metadata": {},
   "outputs": [
    {
     "name": "stdout",
     "output_type": "stream",
     "text": [
      "Mean Absolute Error: 0.124\n",
      "Mean Squared Error: 0.124\n",
      "Root Mean Squared Error: 0.352\n",
      "Testing accuracy on selected features: 0.876\n"
     ]
    }
   ],
   "source": [
    "print('Mean Absolute Error: %.3f' % metrics.mean_absolute_error(y_test, y_pred_xgbc))\n",
    "print('Mean Squared Error: %.3f' % metrics.mean_squared_error(y_test, y_pred_xgbc))\n",
    "print('Root Mean Squared Error: %.3f' %  np.sqrt(metrics.mean_squared_error(y_test, y_pred_xgbc)))\n",
    "print('Testing accuracy on selected features: %.3f' % accuracy_score(y_test, y_pred_xgbc))"
   ]
  },
  {
   "cell_type": "code",
   "execution_count": 159,
   "metadata": {},
   "outputs": [],
   "source": [
    "# Build Naive Bayes model with selected features using Lasso selection\n",
    "from sklearn.naive_bayes import GaussianNB\n",
    "gnb = GaussianNB()\n",
    "gnb.fit(X_train_lasso,y_train)\n",
    "y_pred_gnb = gnb.predict(X_test_lasso)"
   ]
  },
  {
   "cell_type": "code",
   "execution_count": 161,
   "metadata": {},
   "outputs": [
    {
     "name": "stdout",
     "output_type": "stream",
     "text": [
      "Number of mislabeled points out of a total 19661 points : 5812\n"
     ]
    }
   ],
   "source": [
    "print(\"Number of mislabeled points out of a total %d points : %d\" % (X_test_lasso.shape[0], (y_test != y_pred_gnb).sum()))"
   ]
  },
  {
   "cell_type": "code",
   "execution_count": 162,
   "metadata": {},
   "outputs": [
    {
     "name": "stdout",
     "output_type": "stream",
     "text": [
      "Gaussian Naive Bayes model accuracy(in %): 70.438940033569\n"
     ]
    }
   ],
   "source": [
    "print(\"Gaussian Naive Bayes model accuracy(in %):\", metrics.accuracy_score(y_test, y_pred_gnb)*100)"
   ]
  }
 ],
 "metadata": {
  "kernelspec": {
   "display_name": "Python 3",
   "language": "python",
   "name": "python3"
  },
  "language_info": {
   "codemirror_mode": {
    "name": "ipython",
    "version": 3
   },
   "file_extension": ".py",
   "mimetype": "text/x-python",
   "name": "python",
   "nbconvert_exporter": "python",
   "pygments_lexer": "ipython3",
   "version": "3.7.6"
  }
 },
 "nbformat": 4,
 "nbformat_minor": 4
}
